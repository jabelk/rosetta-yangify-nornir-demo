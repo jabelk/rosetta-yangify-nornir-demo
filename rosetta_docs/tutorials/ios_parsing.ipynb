{
 "cells": [
  {
   "cell_type": "markdown",
   "metadata": {},
   "source": [
    "# Parsing (IOS)\n",
    "\n",
    "One of the features ntc_rosetta supports is parsing native configuration and turning into data modelled after YANG models. For that purpose ntc_rosetta leverages [yangify](https://github.com/networktocode/yangify) and builds on top of it to make it more consumable.\n",
    "\n",
    "ntc_rosetta introduces the concept of \"drivers\". Drivers are objects that implements the parsing and translation of a given YANG model for a particular NOS. For instance, if you wanted to parse IOS configuration and convert it into data that follows the openconfig model you would load the corresponding driver like this:"
   ]
  },
  {
   "cell_type": "code",
   "execution_count": 1,
   "metadata": {},
   "outputs": [],
   "source": [
    "from ntc_rosetta import get_driver\n",
    "\n",
    "ios = get_driver(\"ios\", \"openconfig\")\n",
    "ios_driver = ios()"
   ]
  },
  {
   "cell_type": "markdown",
   "metadata": {},
   "source": [
    "The same processor can also translate the given model to native configuration.\n",
    "\n",
    "Now, let's see how we can use this driver to parse IOS configuration and turn it into an Openconfig model. First, let's load some IOS configuration:"
   ]
  },
  {
   "cell_type": "code",
   "execution_count": 2,
   "metadata": {},
   "outputs": [],
   "source": [
    "with open(\"data/ios/config.txt\", \"r\") as f:\n",
    "    config = f.read()"
   ]
  },
  {
   "cell_type": "code",
   "execution_count": 3,
   "metadata": {},
   "outputs": [
    {
     "name": "stdout",
     "output_type": "stream",
     "text": [
      "interface FastEthernet1\n",
      "   description This is Fa1\n",
      "   shutdown\n",
      "   exit\n",
      "!\n",
      "interface FastEthernet1.1\n",
      "   description This is Fa1.1\n",
      "   exit\n",
      "!\n",
      "interface FastEthernet1.2\n",
      "   description This is Fa1.2\n",
      "   exit\n",
      "!\n",
      "interface FastEthernet3\n",
      "   description This is Fa3\n",
      "   no shutdown\n",
      "   switchport mode access\n",
      "   switchport access vlan 10\n",
      "   exit\n",
      "!\n",
      "interface FastEthernet4\n",
      "   shutdown\n",
      "   switchport mode trunk\n",
      "   switchport trunk allowed vlan 10,20\n",
      "   exit\n",
      "!\n",
      "vlan 10\n",
      "   name prod\n",
      "   no shutdown\n",
      "   exit\n",
      "!\n",
      "vlan 20\n",
      "   name dev\n",
      "   shutdown\n",
      "   exit\n",
      "!\n",
      "\n"
     ]
    }
   ],
   "source": [
    "print(config)"
   ]
  },
  {
   "cell_type": "markdown",
   "metadata": {},
   "source": [
    "Once the configuration is loaded, you need to parse it. The parser has some conventions you have to be aware of, for instance, when parsing configuration, it's going to expect you pass a `native` argument with a dictionary where the key `dev_conf` is the native configuration:"
   ]
  },
  {
   "cell_type": "code",
   "execution_count": 4,
   "metadata": {},
   "outputs": [],
   "source": [
    "parsed = ios_driver.parse(native={\"dev_conf\": config})"
   ]
  },
  {
   "cell_type": "markdown",
   "metadata": {},
   "source": [
    "That's literally all you have to do parse the native configuration and turn it into structured data. We can check the result by dumping the `parsed.raw_value()`:"
   ]
  },
  {
   "cell_type": "code",
   "execution_count": 5,
   "metadata": {},
   "outputs": [
    {
     "name": "stdout",
     "output_type": "stream",
     "text": [
      "{\n",
      "    \"openconfig-interfaces:interfaces\": {\n",
      "        \"interface\": [\n",
      "            {\n",
      "                \"name\": \"FastEthernet1\",\n",
      "                \"config\": {\n",
      "                    \"name\": \"FastEthernet1\",\n",
      "                    \"type\": \"iana-if-type:ethernetCsmacd\",\n",
      "                    \"description\": \"This is Fa1\",\n",
      "                    \"enabled\": false\n",
      "                },\n",
      "                \"subinterfaces\": {\n",
      "                    \"subinterface\": [\n",
      "                        {\n",
      "                            \"index\": 1,\n",
      "                            \"config\": {\n",
      "                                \"index\": 1,\n",
      "                                \"description\": \"This is Fa1.1\"\n",
      "                            }\n",
      "                        },\n",
      "                        {\n",
      "                            \"index\": 2,\n",
      "                            \"config\": {\n",
      "                                \"index\": 2,\n",
      "                                \"description\": \"This is Fa1.2\"\n",
      "                            }\n",
      "                        }\n",
      "                    ]\n",
      "                }\n",
      "            },\n",
      "            {\n",
      "                \"name\": \"FastEthernet3\",\n",
      "                \"config\": {\n",
      "                    \"name\": \"FastEthernet3\",\n",
      "                    \"type\": \"iana-if-type:ethernetCsmacd\",\n",
      "                    \"description\": \"This is Fa3\",\n",
      "                    \"enabled\": true\n",
      "                },\n",
      "                \"openconfig-if-ethernet:ethernet\": {\n",
      "                    \"openconfig-vlan:switched-vlan\": {\n",
      "                        \"config\": {\n",
      "                            \"interface-mode\": \"ACCESS\",\n",
      "                            \"access-vlan\": 10\n",
      "                        }\n",
      "                    }\n",
      "                }\n",
      "            },\n",
      "            {\n",
      "                \"name\": \"FastEthernet4\",\n",
      "                \"config\": {\n",
      "                    \"name\": \"FastEthernet4\",\n",
      "                    \"type\": \"iana-if-type:ethernetCsmacd\",\n",
      "                    \"enabled\": false\n",
      "                },\n",
      "                \"openconfig-if-ethernet:ethernet\": {\n",
      "                    \"openconfig-vlan:switched-vlan\": {\n",
      "                        \"config\": {\n",
      "                            \"interface-mode\": \"TRUNK\",\n",
      "                            \"trunk-vlans\": [\n",
      "                                10,\n",
      "                                20\n",
      "                            ]\n",
      "                        }\n",
      "                    }\n",
      "                }\n",
      "            }\n",
      "        ]\n",
      "    },\n",
      "    \"openconfig-network-instance:network-instances\": {\n",
      "        \"network-instance\": [\n",
      "            {\n",
      "                \"name\": \"default\",\n",
      "                \"config\": {\n",
      "                    \"name\": \"default\"\n",
      "                },\n",
      "                \"vlans\": {\n",
      "                    \"vlan\": [\n",
      "                        {\n",
      "                            \"vlan-id\": 10,\n",
      "                            \"config\": {\n",
      "                                \"vlan-id\": 10,\n",
      "                                \"name\": \"prod\",\n",
      "                                \"status\": \"ACTIVE\"\n",
      "                            }\n",
      "                        },\n",
      "                        {\n",
      "                            \"vlan-id\": 20,\n",
      "                            \"config\": {\n",
      "                                \"vlan-id\": 20,\n",
      "                                \"name\": \"dev\",\n",
      "                                \"status\": \"SUSPENDED\"\n",
      "                            }\n",
      "                        }\n",
      "                    ]\n",
      "                }\n",
      "            }\n",
      "        ]\n",
      "    }\n",
      "}\n"
     ]
    }
   ],
   "source": [
    "import json\n",
    "print(json.dumps(parsed.raw_value(), indent=4))"
   ]
  },
  {
   "cell_type": "markdown",
   "metadata": {},
   "source": [
    "ntc_rosetta, also let's you parse some parts of the model, however, you need to be aware that might break the validation of the object:"
   ]
  },
  {
   "cell_type": "code",
   "execution_count": 6,
   "metadata": {},
   "outputs": [
    {
     "name": "stdout",
     "output_type": "stream",
     "text": [
      "error: [/openconfig-network-instance:network-instances/network-instance/0/name] instance-required\n"
     ]
    }
   ],
   "source": [
    "from yangson.exceptions import SemanticError\n",
    "try:\n",
    "    parsed_vlans = ios_driver.parse(\n",
    "        native={\"dev_conf\": config},\n",
    "        include=[\n",
    "            \"/openconfig-network-instance:network-instances/network-instance/vlans\",        \n",
    "        ]\n",
    "    )\n",
    "except SemanticError as e:\n",
    "    print(f\"error: {e}\")"
   ]
  },
  {
   "cell_type": "markdown",
   "metadata": {},
   "source": [
    "You can workaround this in two ways:\n",
    "1. By disabling the validation of the object\n",
    "2. By parsing all the necessary elements to make the object compliant.\n",
    "\n",
    "You can disable the validation of the object by passing `validate=False`:"
   ]
  },
  {
   "cell_type": "code",
   "execution_count": 7,
   "metadata": {},
   "outputs": [
    {
     "name": "stdout",
     "output_type": "stream",
     "text": [
      "{\n",
      "    \"openconfig-network-instance:network-instances\": {\n",
      "        \"network-instance\": [\n",
      "            {\n",
      "                \"name\": \"default\",\n",
      "                \"vlans\": {\n",
      "                    \"vlan\": [\n",
      "                        {\n",
      "                            \"vlan-id\": 10,\n",
      "                            \"config\": {\n",
      "                                \"vlan-id\": 10,\n",
      "                                \"name\": \"prod\",\n",
      "                                \"status\": \"ACTIVE\"\n",
      "                            }\n",
      "                        },\n",
      "                        {\n",
      "                            \"vlan-id\": 20,\n",
      "                            \"config\": {\n",
      "                                \"vlan-id\": 20,\n",
      "                                \"name\": \"dev\",\n",
      "                                \"status\": \"SUSPENDED\"\n",
      "                            }\n",
      "                        }\n",
      "                    ]\n",
      "                }\n",
      "            }\n",
      "        ]\n",
      "    }\n",
      "}\n"
     ]
    }
   ],
   "source": [
    "parsed_vlans = ios_driver.parse(\n",
    "    native={\"dev_conf\": config},\n",
    "    validate=False,\n",
    "    include=[\n",
    "        \"/openconfig-network-instance:network-instances/network-instance/vlans\",        \n",
    "    ]\n",
    ")\n",
    "print(json.dumps(parsed_vlans.raw_value(), indent=4))"
   ]
  },
  {
   "cell_type": "markdown",
   "metadata": {},
   "source": [
    "And you can make sure your object is valid by passing the list of elements that are needed to make the object compliant:"
   ]
  },
  {
   "cell_type": "code",
   "execution_count": 8,
   "metadata": {},
   "outputs": [
    {
     "name": "stdout",
     "output_type": "stream",
     "text": [
      "{\n",
      "    \"openconfig-network-instance:network-instances\": {\n",
      "        \"network-instance\": [\n",
      "            {\n",
      "                \"name\": \"default\",\n",
      "                \"config\": {\n",
      "                    \"name\": \"default\"\n",
      "                },\n",
      "                \"vlans\": {\n",
      "                    \"vlan\": [\n",
      "                        {\n",
      "                            \"vlan-id\": 10,\n",
      "                            \"config\": {\n",
      "                                \"vlan-id\": 10,\n",
      "                                \"name\": \"prod\",\n",
      "                                \"status\": \"ACTIVE\"\n",
      "                            }\n",
      "                        },\n",
      "                        {\n",
      "                            \"vlan-id\": 20,\n",
      "                            \"config\": {\n",
      "                                \"vlan-id\": 20,\n",
      "                                \"name\": \"dev\",\n",
      "                                \"status\": \"SUSPENDED\"\n",
      "                            }\n",
      "                        }\n",
      "                    ]\n",
      "                }\n",
      "            }\n",
      "        ]\n",
      "    }\n",
      "}\n"
     ]
    }
   ],
   "source": [
    "parsed_vlans = ios_driver.parse(\n",
    "    native={\"dev_conf\": config},\n",
    "    include=[\n",
    "        \"/openconfig-network-instance:network-instances/network-instance/name\",\n",
    "        \"/openconfig-network-instance:network-instances/network-instance/config\",\n",
    "        \"/openconfig-network-instance:network-instances/network-instance/vlans\",        \n",
    "    ]\n",
    ")\n",
    "print(json.dumps(parsed_vlans.raw_value(), indent=4))"
   ]
  }
 ],
 "metadata": {
  "kernelspec": {
   "display_name": "Python 3",
   "language": "python",
   "name": "python3"
  },
  "language_info": {
   "codemirror_mode": {
    "name": "ipython",
    "version": 3
   },
   "file_extension": ".py",
   "mimetype": "text/x-python",
   "name": "python",
   "nbconvert_exporter": "python",
   "pygments_lexer": "ipython3",
   "version": "3.6.7"
  }
 },
 "nbformat": 4,
 "nbformat_minor": 2
}
