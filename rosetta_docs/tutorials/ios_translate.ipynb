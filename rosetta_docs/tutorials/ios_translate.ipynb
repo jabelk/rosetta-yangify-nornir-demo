{
 "cells": [
  {
   "cell_type": "markdown",
   "metadata": {},
   "source": [
    "# Translating (IOS)\n",
    "\n",
    "As explained in the previous tutorial, a ntc_rosetta driver can both parse and translate between native and yang-based models. In this tutorial we are going to translate data that complies to the openconfig model into native IOS configuration.\n",
    "\n",
    "Let's start by loading the needed driver:"
   ]
  },
  {
   "cell_type": "code",
   "execution_count": 1,
   "metadata": {},
   "outputs": [],
   "source": [
    "from ntc_rosetta import get_driver\n",
    "\n",
    "ios = get_driver(\"ios\", \"openconfig\")\n",
    "ios_processor = ios()"
   ]
  },
  {
   "cell_type": "markdown",
   "metadata": {},
   "source": [
    "Now we need some data:"
   ]
  },
  {
   "cell_type": "code",
   "execution_count": 2,
   "metadata": {},
   "outputs": [],
   "source": [
    "data = {\n",
    "    \"openconfig-interfaces:interfaces\": {\n",
    "        \"interface\": [\n",
    "            {\n",
    "                \"name\": \"FastEthernet1\",\n",
    "                \"config\": {\n",
    "                    \"name\": \"FastEthernet1\",\n",
    "                    \"type\": \"iana-if-type:ethernetCsmacd\",\n",
    "                    \"description\": \"This is Fa1\",\n",
    "                    \"enabled\": False\n",
    "                },\n",
    "                \"subinterfaces\": {\n",
    "                    \"subinterface\": [\n",
    "                        {\n",
    "                            \"index\": 1,\n",
    "                            \"config\": {\n",
    "                                \"index\": 1,\n",
    "                                \"description\": \"This is Fa1.1\"\n",
    "                            }\n",
    "                        },\n",
    "                        {\n",
    "                            \"index\": 2,\n",
    "                            \"config\": {\n",
    "                                \"index\": 2,\n",
    "                                \"description\": \"This is Fa1.2\"\n",
    "                            }\n",
    "                        }\n",
    "                    ]\n",
    "                }\n",
    "            },\n",
    "            {\n",
    "                \"name\": \"FastEthernet3\",\n",
    "                \"config\": {\n",
    "                    \"name\": \"FastEthernet3\",\n",
    "                    \"type\": \"iana-if-type:ethernetCsmacd\",\n",
    "                    \"description\": \"This is Fa3\",\n",
    "                    \"enabled\": True\n",
    "                },\n",
    "                \"openconfig-if-ethernet:ethernet\": {\n",
    "                    \"openconfig-vlan:switched-vlan\": {\n",
    "                        \"config\": {\n",
    "                            \"interface-mode\": \"ACCESS\",\n",
    "                            \"access-vlan\": 10\n",
    "                        }\n",
    "                    }\n",
    "                }\n",
    "            },\n",
    "            {\n",
    "                \"name\": \"FastEthernet4\",\n",
    "                \"config\": {\n",
    "                    \"name\": \"FastEthernet4\",\n",
    "                    \"type\": \"iana-if-type:ethernetCsmacd\",\n",
    "                    \"enabled\": False\n",
    "                },\n",
    "                \"openconfig-if-ethernet:ethernet\": {\n",
    "                    \"openconfig-vlan:switched-vlan\": {\n",
    "                        \"config\": {\n",
    "                            \"interface-mode\": \"TRUNK\",\n",
    "                            \"trunk-vlans\": [\n",
    "                                10,\n",
    "                                20\n",
    "                            ]\n",
    "                        }\n",
    "                    }\n",
    "                }\n",
    "            }\n",
    "        ]\n",
    "    },\n",
    "    \"openconfig-network-instance:network-instances\": {\n",
    "        \"network-instance\": [\n",
    "            {\n",
    "                \"name\": \"default\",\n",
    "                \"config\": {\n",
    "                    \"name\": \"default\"\n",
    "                },\n",
    "                \"vlans\": {\n",
    "                    \"vlan\": [\n",
    "                        {\n",
    "                            \"vlan-id\": 10,\n",
    "                            \"config\": {\n",
    "                                \"vlan-id\": 10,\n",
    "                                \"name\": \"prod\",\n",
    "                                \"status\": \"ACTIVE\"\n",
    "                            }\n",
    "                        },\n",
    "                        {\n",
    "                            \"vlan-id\": 20,\n",
    "                            \"config\": {\n",
    "                                \"vlan-id\": 20,\n",
    "                                \"name\": \"dev\",\n",
    "                                \"status\": \"SUSPENDED\"\n",
    "                            }\n",
    "                        }\n",
    "                    ]\n",
    "                }\n",
    "            }\n",
    "        ]\n",
    "    }\n",
    "}"
   ]
  },
  {
   "cell_type": "markdown",
   "metadata": {},
   "source": [
    "Once we have the data, translating it to native is very simple:"
   ]
  },
  {
   "cell_type": "code",
   "execution_count": 3,
   "metadata": {},
   "outputs": [],
   "source": [
    "native = ios_processor.translate(candidate=data)"
   ]
  },
  {
   "cell_type": "markdown",
   "metadata": {},
   "source": [
    "We can verify the result by just printing it:"
   ]
  },
  {
   "cell_type": "code",
   "execution_count": 4,
   "metadata": {},
   "outputs": [
    {
     "name": "stdout",
     "output_type": "stream",
     "text": [
      "interface FastEthernet1\n",
      "   description This is Fa1\n",
      "   shutdown\n",
      "   exit\n",
      "!\n",
      "interface FastEthernet1.1\n",
      "   description This is Fa1.1\n",
      "   exit\n",
      "!\n",
      "interface FastEthernet1.2\n",
      "   description This is Fa1.2\n",
      "   exit\n",
      "!\n",
      "interface FastEthernet3\n",
      "   description This is Fa3\n",
      "   no shutdown\n",
      "   switchport mode access\n",
      "   switchport access vlan 10\n",
      "   exit\n",
      "!\n",
      "interface FastEthernet4\n",
      "   shutdown\n",
      "   switchport mode trunk\n",
      "   switchport trunk allowed vlan 10,20\n",
      "   exit\n",
      "!\n",
      "vlan 10\n",
      "   name prod\n",
      "   no shutdown\n",
      "   exit\n",
      "!\n",
      "vlan 20\n",
      "   name dev\n",
      "   shutdown\n",
      "   exit\n",
      "!\n",
      "\n"
     ]
    }
   ],
   "source": [
    "print(native)"
   ]
  }
 ],
 "metadata": {
  "kernelspec": {
   "display_name": "Python 3",
   "language": "python",
   "name": "python3"
  },
  "language_info": {
   "codemirror_mode": {
    "name": "ipython",
    "version": 3
   },
   "file_extension": ".py",
   "mimetype": "text/x-python",
   "name": "python",
   "nbconvert_exporter": "python",
   "pygments_lexer": "ipython3",
   "version": "3.6.7"
  }
 },
 "nbformat": 4,
 "nbformat_minor": 2
}
