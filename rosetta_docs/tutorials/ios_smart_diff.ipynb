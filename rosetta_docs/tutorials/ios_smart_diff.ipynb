{
 "cells": [
  {
   "cell_type": "markdown",
   "metadata": {},
   "source": [
    "# Merge native configurations (IOS)\n",
    "\n",
    "In our previous example we merged two objects that already complied with the openconfig models. In this example, we are going to merge to native configurations.\n",
    "\n",
    "Let's start by loading the driver as usual:"
   ]
  },
  {
   "cell_type": "code",
   "execution_count": 1,
   "metadata": {},
   "outputs": [],
   "source": [
    "from ntc_rosetta import get_driver\n",
    "\n",
    "ios = get_driver(\"ios\", \"openconfig\")\n",
    "ios_processor = ios()"
   ]
  },
  {
   "cell_type": "markdown",
   "metadata": {},
   "source": [
    "Now we are going to load a file with the \"running\" configuration:"
   ]
  },
  {
   "cell_type": "code",
   "execution_count": 2,
   "metadata": {},
   "outputs": [],
   "source": [
    "with open(\"data/ios/config.txt\", \"r\") as f:\n",
    "    running_config = f.read()"
   ]
  },
  {
   "cell_type": "markdown",
   "metadata": {},
   "source": [
    "And now a different file with the \"candidate\" config:"
   ]
  },
  {
   "cell_type": "code",
   "execution_count": 3,
   "metadata": {},
   "outputs": [],
   "source": [
    "with open(\"data/ios/new_config.txt\", \"r\") as f:\n",
    "    candidate_config = f.read()"
   ]
  },
  {
   "cell_type": "markdown",
   "metadata": {},
   "source": [
    "Let's see the files side by side highlighting the differences:"
   ]
  },
  {
   "cell_type": "code",
   "execution_count": 4,
   "metadata": {},
   "outputs": [
    {
     "name": "stdout",
     "output_type": "stream",
     "text": [
      "interface FastEthernet1\t\t\t\t\t\tinterface FastEthernet1\r\n",
      "   description This is Fa1\t\t\t\t\t   description This is Fa1\r\n",
      "   shutdown\t\t\t\t\t\t\t   shutdown\r\n",
      "   exit\t\t\t\t\t\t\t\t   exit\r\n",
      "!\t\t\t\t\t\t\t\t!\r\n",
      "interface FastEthernet1.1\t\t\t\t\tinterface FastEthernet1.1\r\n",
      "   description This is Fa1.1\t\t\t\t\t   description This is Fa1.1\r\n",
      "   exit\t\t\t\t\t\t\t\t   exit\r\n",
      "!\t\t\t\t\t\t\t\t!\r\n",
      "interface FastEthernet1.2\t\t\t\t\tinterface FastEthernet1.2\r\n",
      "   description This is Fa1.2\t\t\t\t\t   description This is Fa1.2\r\n",
      "   exit\t\t\t\t\t\t\t\t   exit\r\n",
      "!\t\t\t\t\t\t\t\t!\r\n",
      "interface FastEthernet3\t\t\t\t\t\tinterface FastEthernet3\r\n",
      "   description This is Fa3\t\t\t\t\t   description This is Fa3\r\n",
      "   no shutdown\t\t\t\t\t\t\t   no shutdown\r\n",
      "   switchport mode access\t\t\t\t\t   switchport mode access\r\n",
      "   switchport access vlan 10\t\t\t\t\t   switchport access vlan 10\r\n",
      "   exit\t\t\t\t\t\t\t\t   exit\r\n",
      "!\t\t\t\t\t\t\t\t!\r\n",
      "interface FastEthernet4\t\t\t\t\t\tinterface FastEthernet4\r\n",
      "   shutdown\t\t\t\t\t\t\t   shutdown\r\n",
      "   switchport mode trunk\t\t\t\t\t   switchport mode trunk\r\n",
      "   switchport trunk allowed vlan 10,20\t\t\t\t   switchport trunk allowed vlan 10,20\r\n",
      "   exit\t\t\t\t\t\t\t\t   exit\r\n",
      "!\t\t\t\t\t\t\t\t!\r\n",
      "vlan 10\t\t\t\t\t\t\t\tvlan 10\r\n",
      "   name prod\t\t\t\t\t\t\t   name prod\r\n",
      "   no shutdown\t\t\t\t\t\t      |\t   shutdown\r\n",
      "   exit\t\t\t\t\t\t\t\t   exit\r\n",
      "!\t\t\t\t\t\t\t\t!\r\n",
      "vlan 20\t\t\t\t\t\t\t      |\tvlan 30\r\n",
      "   name dev\t\t\t\t\t\t      |\t   name staging\r\n",
      "   shutdown\t\t\t\t\t\t      |\t   no shutdown\r\n",
      "   exit\t\t\t\t\t\t\t\t   exit\r\n",
      "!\t\t\t\t\t\t\t\t!\r\n"
     ]
    }
   ],
   "source": [
    "!diff -y data/ios/config.txt data/ios/new_config.txt"
   ]
  },
  {
   "cell_type": "markdown",
   "metadata": {},
   "source": [
    "As you can see vlan 20 is gone, vlan 10 has been suspended and there is a new vlan 30.\n",
    "\n",
    "Now let's parse those configurations as we did in our first tutorial:"
   ]
  },
  {
   "cell_type": "code",
   "execution_count": 5,
   "metadata": {},
   "outputs": [],
   "source": [
    "parsed_candidate = ios_processor.parse(native={\"dev_conf\": candidate_config})\n",
    "parsed_running = ios_processor.parse(native={\"dev_conf\": running_config})"
   ]
  },
  {
   "cell_type": "markdown",
   "metadata": {},
   "source": [
    "Now that we have parsed both native configurations, doing a merge operation is identical as in our previous tutorial:"
   ]
  },
  {
   "cell_type": "code",
   "execution_count": 6,
   "metadata": {},
   "outputs": [
    {
     "name": "stdout",
     "output_type": "stream",
     "text": [
      "no vlan 20\n",
      "vlan 10\n",
      "   shutdown\n",
      "   exit\n",
      "!\n",
      "vlan 30\n",
      "   name staging\n",
      "   no shutdown\n",
      "   exit\n",
      "!\n",
      "\n"
     ]
    }
   ],
   "source": [
    "config = ios_processor.merge(\n",
    "    candidate=parsed_candidate.raw_value(),\n",
    "    running=parsed_running.raw_value()\n",
    ")\n",
    "print(config)"
   ]
  }
 ],
 "metadata": {
  "kernelspec": {
   "display_name": "Python 3",
   "language": "python",
   "name": "python3"
  },
  "language_info": {
   "codemirror_mode": {
    "name": "ipython",
    "version": 3
   },
   "file_extension": ".py",
   "mimetype": "text/x-python",
   "name": "python",
   "nbconvert_exporter": "python",
   "pygments_lexer": "ipython3",
   "version": "3.6.7"
  }
 },
 "nbformat": 4,
 "nbformat_minor": 2
}
