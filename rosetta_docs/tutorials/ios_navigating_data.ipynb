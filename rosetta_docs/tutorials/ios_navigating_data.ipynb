{
 "cells": [
  {
   "cell_type": "markdown",
   "metadata": {},
   "source": [
    "# Navigating Data\n",
    "\n",
    "In the previous tutorial we saw how to parse configuration. In this tutorial we are going to see how we can navigate the data we extracted.\n",
    "\n",
    "Let's start by parsing the configuration as in the previous example:"
   ]
  },
  {
   "cell_type": "code",
   "execution_count": 1,
   "metadata": {},
   "outputs": [],
   "source": [
    "from ntc_rosetta import get_driver\n",
    "\n",
    "ios = get_driver(\"ios\", \"openconfig\")\n",
    "ios_driver = ios()\n",
    "\n",
    "with open(\"data/ios/config.txt\", \"r\") as f:\n",
    "    config = f.read()\n",
    "    \n",
    "parsed = ios_driver.parse(native={\"dev_conf\": config})"
   ]
  },
  {
   "cell_type": "markdown",
   "metadata": {},
   "source": [
    "## Raw value\n",
    "\n",
    "The most basic form of navigating the data is by using the method `raw_value`, which returns the object using only builtin datastructures:"
   ]
  },
  {
   "cell_type": "code",
   "execution_count": 2,
   "metadata": {},
   "outputs": [
    {
     "data": {
      "text/plain": [
       "{'openconfig-interfaces:interfaces': {'interface': [{'name': 'FastEthernet1',\n",
       "    'config': {'name': 'FastEthernet1',\n",
       "     'type': 'iana-if-type:ethernetCsmacd',\n",
       "     'description': 'This is Fa1',\n",
       "     'enabled': False},\n",
       "    'subinterfaces': {'subinterface': [{'index': 1,\n",
       "       'config': {'index': 1, 'description': 'This is Fa1.1'}},\n",
       "      {'index': 2, 'config': {'index': 2, 'description': 'This is Fa1.2'}}]}},\n",
       "   {'name': 'FastEthernet3',\n",
       "    'config': {'name': 'FastEthernet3',\n",
       "     'type': 'iana-if-type:ethernetCsmacd',\n",
       "     'description': 'This is Fa3',\n",
       "     'enabled': True},\n",
       "    'openconfig-if-ethernet:ethernet': {'openconfig-vlan:switched-vlan': {'config': {'interface-mode': 'ACCESS',\n",
       "       'access-vlan': 10}}}},\n",
       "   {'name': 'FastEthernet4',\n",
       "    'config': {'name': 'FastEthernet4',\n",
       "     'type': 'iana-if-type:ethernetCsmacd',\n",
       "     'enabled': False},\n",
       "    'openconfig-if-ethernet:ethernet': {'openconfig-vlan:switched-vlan': {'config': {'interface-mode': 'TRUNK',\n",
       "       'trunk-vlans': [10, 20]}}}}]},\n",
       " 'openconfig-network-instance:network-instances': {'network-instance': [{'name': 'default',\n",
       "    'config': {'name': 'default'},\n",
       "    'vlans': {'vlan': [{'vlan-id': 10,\n",
       "       'config': {'vlan-id': 10, 'name': 'prod', 'status': 'ACTIVE'}},\n",
       "      {'vlan-id': 20,\n",
       "       'config': {'vlan-id': 20, 'name': 'dev', 'status': 'SUSPENDED'}}]}}]}}"
      ]
     },
     "execution_count": 2,
     "metadata": {},
     "output_type": "execute_result"
    }
   ],
   "source": [
    "raw = parsed.raw_value()\n",
    "raw"
   ]
  },
  {
   "cell_type": "code",
   "execution_count": 3,
   "metadata": {},
   "outputs": [
    {
     "name": "stdout",
     "output_type": "stream",
     "text": [
      "This is Fa1\n"
     ]
    }
   ],
   "source": [
    "print(raw[\"openconfig-interfaces:interfaces\"][\"interface\"][0][\"config\"][\"description\"])"
   ]
  },
  {
   "cell_type": "markdown",
   "metadata": {},
   "source": [
    "## Instance identifiers\n",
    "\n",
    "You can also use [instance identifiers](https://tools.ietf.org/html/rfc7951#section-6.11) to get data from the object, to do so use the method `peek`:"
   ]
  },
  {
   "cell_type": "code",
   "execution_count": 4,
   "metadata": {},
   "outputs": [
    {
     "data": {
      "text/plain": [
       "'This is Fa1'"
      ]
     },
     "execution_count": 4,
     "metadata": {},
     "output_type": "execute_result"
    }
   ],
   "source": [
    "parsed.peek(\"/openconfig-interfaces:interfaces/interface=FastEthernet1/config/description\")"
   ]
  },
  {
   "cell_type": "code",
   "execution_count": 5,
   "metadata": {},
   "outputs": [
    {
     "data": {
      "text/plain": [
       "'This is Fa1.1'"
      ]
     },
     "execution_count": 5,
     "metadata": {},
     "output_type": "execute_result"
    }
   ],
   "source": [
    "parsed.peek(\"/openconfig-interfaces:interfaces/interface=FastEthernet1/subinterfaces/subinterface=1/config/description\")"
   ]
  },
  {
   "cell_type": "code",
   "execution_count": 6,
   "metadata": {},
   "outputs": [
    {
     "data": {
      "text/plain": [
       "{'config': {'interface-mode': 'ACCESS', 'access-vlan': 10}}"
      ]
     },
     "execution_count": 6,
     "metadata": {},
     "output_type": "execute_result"
    }
   ],
   "source": [
    "parsed.peek(\"/openconfig-interfaces:interfaces/interface=FastEthernet3/openconfig-if-ethernet:ethernet/openconfig-vlan:switched-vlan\")"
   ]
  }
 ],
 "metadata": {
  "kernelspec": {
   "display_name": "Python 3",
   "language": "python",
   "name": "python3"
  },
  "language_info": {
   "codemirror_mode": {
    "name": "ipython",
    "version": 3
   },
   "file_extension": ".py",
   "mimetype": "text/x-python",
   "name": "python",
   "nbconvert_exporter": "python",
   "pygments_lexer": "ipython3",
   "version": "3.6.8"
  }
 },
 "nbformat": 4,
 "nbformat_minor": 2
}
