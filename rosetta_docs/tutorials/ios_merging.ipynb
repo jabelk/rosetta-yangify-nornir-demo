{
 "cells": [
  {
   "cell_type": "markdown",
   "metadata": {},
   "source": [
    "# Merge (IOS)\n",
    "\n",
    "In addition to translating models to native configuration, ntc_rosetta can create configuration deltas that can be applied into the device. This means that given to different sets of data, ntc_rosetta can compute the needed native commands to go from one to the other.\n",
    "\n",
    "To see what this means let's see it with an example. Let's start by loading the driver:"
   ]
  },
  {
   "cell_type": "code",
   "execution_count": 1,
   "metadata": {},
   "outputs": [],
   "source": [
    "from ntc_rosetta import get_driver\n",
    "\n",
    "ios = get_driver(\"ios\", \"openconfig\")\n",
    "ios_processor = ios()"
   ]
  },
  {
   "cell_type": "markdown",
   "metadata": {},
   "source": [
    "Now we load some data that will represent the \"running\" configuration:"
   ]
  },
  {
   "cell_type": "code",
   "execution_count": 2,
   "metadata": {},
   "outputs": [],
   "source": [
    "running = {\n",
    "    \"openconfig-interfaces:interfaces\": {\n",
    "        \"interface\": [\n",
    "            {\n",
    "                \"name\": \"FastEthernet1\",\n",
    "                \"config\": {\n",
    "                    \"name\": \"FastEthernet1\",\n",
    "                    \"type\": \"iana-if-type:ethernetCsmacd\",\n",
    "                    \"description\": \"This is Fa1\",\n",
    "                    \"enabled\": False\n",
    "                },\n",
    "                \"subinterfaces\": {\n",
    "                    \"subinterface\": [\n",
    "                        {\n",
    "                            \"index\": 1,\n",
    "                            \"config\": {\n",
    "                                \"index\": 1,\n",
    "                                \"description\": \"This is Fa1.1\"\n",
    "                            }\n",
    "                        },\n",
    "                        {\n",
    "                            \"index\": 2,\n",
    "                            \"config\": {\n",
    "                                \"index\": 2,\n",
    "                                \"description\": \"This is Fa1.2\"\n",
    "                            }\n",
    "                        }\n",
    "                    ]\n",
    "                }\n",
    "            },\n",
    "            {\n",
    "                \"name\": \"FastEthernet3\",\n",
    "                \"config\": {\n",
    "                    \"name\": \"FastEthernet3\",\n",
    "                    \"type\": \"iana-if-type:ethernetCsmacd\",\n",
    "                    \"description\": \"This is Fa3\",\n",
    "                    \"enabled\": True\n",
    "                },\n",
    "                \"openconfig-if-ethernet:ethernet\": {\n",
    "                    \"openconfig-vlan:switched-vlan\": {\n",
    "                        \"config\": {\n",
    "                            \"interface-mode\": \"ACCESS\",\n",
    "                            \"access-vlan\": 10\n",
    "                        }\n",
    "                    }\n",
    "                }\n",
    "            },\n",
    "            {\n",
    "                \"name\": \"FastEthernet4\",\n",
    "                \"config\": {\n",
    "                    \"name\": \"FastEthernet4\",\n",
    "                    \"type\": \"iana-if-type:ethernetCsmacd\",\n",
    "                    \"enabled\": False\n",
    "                },\n",
    "                \"openconfig-if-ethernet:ethernet\": {\n",
    "                    \"openconfig-vlan:switched-vlan\": {\n",
    "                        \"config\": {\n",
    "                            \"interface-mode\": \"TRUNK\",\n",
    "                            \"trunk-vlans\": [\n",
    "                                10,\n",
    "                                20\n",
    "                            ]\n",
    "                        }\n",
    "                    }\n",
    "                }\n",
    "            }\n",
    "        ]\n",
    "    },\n",
    "    \"openconfig-network-instance:network-instances\": {\n",
    "        \"network-instance\": [\n",
    "            {\n",
    "                \"name\": \"default\",\n",
    "                \"config\": {\n",
    "                    \"name\": \"default\"\n",
    "                },\n",
    "                \"vlans\": {\n",
    "                    \"vlan\": [\n",
    "                        {\n",
    "                            \"vlan-id\": 10,\n",
    "                            \"config\": {\n",
    "                                \"vlan-id\": 10,\n",
    "                                \"name\": \"prod\",\n",
    "                                \"status\": \"ACTIVE\"\n",
    "                            }\n",
    "                        },\n",
    "                        {\n",
    "                            \"vlan-id\": 20,\n",
    "                            \"config\": {\n",
    "                                \"vlan-id\": 20,\n",
    "                                \"name\": \"dev\",\n",
    "                                \"status\": \"SUSPENDED\"\n",
    "                            }\n",
    "                        }\n",
    "                    ]\n",
    "                }\n",
    "            }\n",
    "        ]\n",
    "    }\n",
    "}"
   ]
  },
  {
   "cell_type": "markdown",
   "metadata": {},
   "source": [
    "Now we are going to copy this data into a \"candidate\" variable and apply some changes:"
   ]
  },
  {
   "cell_type": "code",
   "execution_count": 3,
   "metadata": {},
   "outputs": [],
   "source": [
    "from copy import deepcopy\n",
    "candidate = deepcopy(running)"
   ]
  },
  {
   "cell_type": "markdown",
   "metadata": {},
   "source": [
    "We are going to start by disabling vlan 10:"
   ]
  },
  {
   "cell_type": "code",
   "execution_count": 4,
   "metadata": {},
   "outputs": [],
   "source": [
    "vlan_10 = candidate[\"openconfig-network-instance:network-instances\"][\"network-instance\"][0][\"vlans\"][\"vlan\"][0]\n",
    "vlan_10[\"config\"][\"status\"] = \"SUSPENDED\""
   ]
  },
  {
   "cell_type": "markdown",
   "metadata": {},
   "source": [
    "Eliminate vlan 20:"
   ]
  },
  {
   "cell_type": "code",
   "execution_count": 5,
   "metadata": {},
   "outputs": [
    {
     "data": {
      "text/plain": [
       "{'vlan-id': 20,\n",
       " 'config': {'vlan-id': 20, 'name': 'dev', 'status': 'SUSPENDED'}}"
      ]
     },
     "execution_count": 5,
     "metadata": {},
     "output_type": "execute_result"
    }
   ],
   "source": [
    "candidate[\"openconfig-network-instance:network-instances\"][\"network-instance\"][0][\"vlans\"][\"vlan\"].pop(1)"
   ]
  },
  {
   "cell_type": "markdown",
   "metadata": {},
   "source": [
    "And create a new vlan 30:"
   ]
  },
  {
   "cell_type": "code",
   "execution_count": 6,
   "metadata": {},
   "outputs": [],
   "source": [
    "vlan_30 = {\n",
    "    \"vlan-id\": 30,\n",
    "    \"config\": {\n",
    "        \"vlan-id\": 30,\n",
    "        \"name\": \"staging\",\n",
    "        \"status\": \"ACTIVE\"\n",
    "    }\n",
    "}\n",
    "candidate[\"openconfig-network-instance:network-instances\"][\"network-instance\"][0][\"vlans\"][\"vlan\"].append(vlan_30)"
   ]
  },
  {
   "cell_type": "markdown",
   "metadata": {},
   "source": [
    "Once we have done those changes we can merge those two objects like this:"
   ]
  },
  {
   "cell_type": "code",
   "execution_count": 7,
   "metadata": {},
   "outputs": [],
   "source": [
    "config = ios_processor.merge(candidate=candidate, running=running)"
   ]
  },
  {
   "cell_type": "markdown",
   "metadata": {},
   "source": [
    "Finally, printing the config variable should return the native commands needed for that merge operation:"
   ]
  },
  {
   "cell_type": "code",
   "execution_count": 8,
   "metadata": {},
   "outputs": [
    {
     "name": "stdout",
     "output_type": "stream",
     "text": [
      "no vlan 20\n",
      "vlan 10\n",
      "   shutdown\n",
      "   exit\n",
      "!\n",
      "vlan 30\n",
      "   name staging\n",
      "   no shutdown\n",
      "   exit\n",
      "!\n",
      "\n"
     ]
    }
   ],
   "source": [
    "print(config)"
   ]
  }
 ],
 "metadata": {
  "kernelspec": {
   "display_name": "Python 3",
   "language": "python",
   "name": "python3"
  },
  "language_info": {
   "codemirror_mode": {
    "name": "ipython",
    "version": 3
   },
   "file_extension": ".py",
   "mimetype": "text/x-python",
   "name": "python",
   "nbconvert_exporter": "python",
   "pygments_lexer": "ipython3",
   "version": "3.6.7"
  }
 },
 "nbformat": 4,
 "nbformat_minor": 2
}
